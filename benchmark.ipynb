{
 "cells": [
  {
   "cell_type": "code",
   "execution_count": 1,
   "metadata": {},
   "outputs": [],
   "source": [
    "%load_ext autoreload\n",
    "%autoreload 2\n",
    "\n",
    "\n",
    "import math\n",
    "from sklearn.metrics import mean_squared_error\n",
    "from dataset import get_dataset\n",
    "from preprocessing import preprocessData\n"
   ]
  },
  {
   "cell_type": "code",
   "execution_count": 2,
   "metadata": {},
   "outputs": [],
   "source": [
    "df_train, df_test = get_dataset()\n",
    "target = 't0s0'\n",
    "\n",
    "# Put the 0 when there is a missing value for lag columns\n",
    "cols = ['t0s0', 't1s0', 't2s0', 't3s0', 't0s1', 't0s2', 't0s3']\n",
    "\n",
    "for col in cols:\n",
    "    df_train[col] = df_train[col].fillna(0)\n",
    "    df_test[col] = df_test[col].fillna(0)"
   ]
  },
  {
   "cell_type": "markdown",
   "metadata": {},
   "source": [
    "# Benchmark - with the average"
   ]
  },
  {
   "cell_type": "code",
   "execution_count": 3,
   "metadata": {},
   "outputs": [
    {
     "name": "stdout",
     "output_type": "stream",
     "text": [
      "RMSE average: 0.15750056868988294\n"
     ]
    }
   ],
   "source": [
    "# Now lets use the average ocuppancy of the train dataset as the prediction\n",
    "\n",
    "average_occupancy = df_train[target].mean()\n",
    "predictions = [average_occupancy] * df_test.shape[0]\n",
    "\n",
    "RMSE_average = math.sqrt(mean_squared_error(df_test[target], predictions))\n",
    "print('RMSE average:', RMSE_average)"
   ]
  },
  {
   "cell_type": "markdown",
   "metadata": {},
   "source": [
    "# Benchmark"
   ]
  },
  {
   "cell_type": "code",
   "execution_count": 4,
   "metadata": {},
   "outputs": [
    {
     "name": "stdout",
     "output_type": "stream",
     "text": [
      "                            OLS Regression Results                            \n",
      "==============================================================================\n",
      "Dep. Variable:                      y   R-squared:                       0.812\n",
      "Model:                            OLS   Adj. R-squared:                  0.812\n",
      "Method:                 Least Squares   F-statistic:                 4.699e+04\n",
      "Date:                Wed, 18 Dec 2024   Prob (F-statistic):               0.00\n",
      "Time:                        02:29:40   Log-Likelihood:                 27575.\n",
      "No. Observations:               21783   AIC:                        -5.514e+04\n",
      "Df Residuals:                   21780   BIC:                        -5.512e+04\n",
      "Df Model:                           2                                         \n",
      "Covariance Type:            nonrobust                                         \n",
      "==============================================================================\n",
      "                 coef    std err          t      P>|t|      [0.025      0.975]\n",
      "------------------------------------------------------------------------------\n",
      "intercept      0.0536      0.001     66.515      0.000       0.052       0.055\n",
      "t1s0           0.1692      0.004     47.312      0.000       0.162       0.176\n",
      "t0s1           0.8522      0.004    198.098      0.000       0.844       0.861\n",
      "==============================================================================\n",
      "Omnibus:                     5206.843   Durbin-Watson:                   2.001\n",
      "Prob(Omnibus):                  0.000   Jarque-Bera (JB):            82999.448\n",
      "Skew:                          -0.721   Prob(JB):                         0.00\n",
      "Kurtosis:                      12.453   Cond. No.                         11.5\n",
      "==============================================================================\n",
      "\n",
      "Notes:\n",
      "[1] Standard Errors assume that the covariance matrix of the errors is correctly specified.\n"
     ]
    }
   ],
   "source": [
    "from andrea_models import AndreaLinearRegression\n",
    "\n",
    "\n",
    "# Creating a model with two features\n",
    "cols = ['t1s0', 't0s1']\n",
    "target = 't0s0'\n",
    "\n",
    "bench_mark_model = AndreaLinearRegression()\n",
    "bench_mark_model.fit(df_train[cols], df_train[target], column_names=cols)\n",
    "bench_mark_model.summary()"
   ]
  },
  {
   "cell_type": "code",
   "execution_count": 5,
   "metadata": {},
   "outputs": [
    {
     "name": "stdout",
     "output_type": "stream",
     "text": [
      "RMSE benchmark: 0.06889595278716454\n"
     ]
    }
   ],
   "source": [
    "# Test the benchmark model\n",
    "predictions = bench_mark_model.predict(df_test[cols])\n",
    "\n",
    "RMSE_2_features = math.sqrt(mean_squared_error(df_test[target], predictions))\n",
    "print('RMSE benchmark:', RMSE_2_features)"
   ]
  }
 ],
 "metadata": {
  "colab": {
   "name": "b.exploration.ipynb",
   "provenance": []
  },
  "kernelspec": {
   "display_name": "Python 3",
   "language": "python",
   "name": "python3"
  },
  "language_info": {
   "codemirror_mode": {
    "name": "ipython",
    "version": 3
   },
   "file_extension": ".py",
   "mimetype": "text/x-python",
   "name": "python",
   "nbconvert_exporter": "python",
   "pygments_lexer": "ipython3",
   "version": "3.10.12"
  }
 },
 "nbformat": 4,
 "nbformat_minor": 0
}
