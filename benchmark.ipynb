{
 "cells": [
  {
   "cell_type": "code",
   "execution_count": null,
   "metadata": {},
   "outputs": [],
   "source": [
    "import math\n",
    "from sklearn.metrics import mean_squared_error\n",
    "from dataset import get_dataset"
   ]
  },
  {
   "cell_type": "code",
   "execution_count": 7,
   "metadata": {},
   "outputs": [],
   "source": [
    "df_train, df_test = get_dataset()\n",
    "target = 't0s0'\n",
    "\n",
    "# Put the 0 when there is a missing value for lag columns\n",
    "cols = ['t0s0', 't1s0', 't2s0', 't3s0', 't0s1', 't0s2', 't0s3']\n",
    "\n",
    "for col in cols:\n",
    "    df_train[col] = df_train[col].fillna(0)\n",
    "    df_test[col] = df_test[col].fillna(0)"
   ]
  },
  {
   "cell_type": "markdown",
   "metadata": {},
   "source": [
    "# Benchmark - with the average"
   ]
  },
  {
   "cell_type": "code",
   "execution_count": 9,
   "metadata": {},
   "outputs": [
    {
     "name": "stdout",
     "output_type": "stream",
     "text": [
      "RMSE average: 0.38031319189179125\n"
     ]
    }
   ],
   "source": [
    "# Now lets use the average ocuppancy of the train dataset as the prediction\n",
    "\n",
    "average_occupancy = df_train[target].mean()\n",
    "predictions = [average_occupancy] * df_test.shape[0]\n",
    "\n",
    "RMSE_average = math.sqrt(mean_squared_error(df_test[target], predictions))\n",
    "print('RMSE average:', RMSE_average)"
   ]
  },
  {
   "cell_type": "markdown",
   "metadata": {},
   "source": [
    "# Benchmark"
   ]
  },
  {
   "cell_type": "code",
   "execution_count": 4,
   "metadata": {},
   "outputs": [
    {
     "name": "stdout",
     "output_type": "stream",
     "text": [
      "                            OLS Regression Results                            \n",
      "==============================================================================\n",
      "Dep. Variable:                      y   R-squared:                       0.811\n",
      "Model:                            OLS   Adj. R-squared:                  0.811\n",
      "Method:                 Least Squares   F-statistic:                 6.673e+04\n",
      "Date:                Tue, 17 Dec 2024   Prob (F-statistic):               0.00\n",
      "Time:                        13:16:54   Log-Likelihood:                 39306.\n",
      "No. Observations:               31119   AIC:                        -7.861e+04\n",
      "Df Residuals:                   31116   BIC:                        -7.858e+04\n",
      "Df Model:                           2                                         \n",
      "Covariance Type:            nonrobust                                         \n",
      "==============================================================================\n",
      "                 coef    std err          t      P>|t|      [0.025      0.975]\n",
      "------------------------------------------------------------------------------\n",
      "intercept      0.0532      0.001     78.756      0.000       0.052       0.054\n",
      "t1s0           0.1757      0.003     58.459      0.000       0.170       0.182\n",
      "t0s1           0.8450      0.004    234.152      0.000       0.838       0.852\n",
      "==============================================================================\n",
      "Omnibus:                     7760.497   Durbin-Watson:                   0.256\n",
      "Prob(Omnibus):                  0.000   Jarque-Bera (JB):           119988.307\n",
      "Skew:                          -0.783   Prob(JB):                         0.00\n",
      "Kurtosis:                      12.491   Cond. No.                         11.5\n",
      "==============================================================================\n",
      "\n",
      "Notes:\n",
      "[1] Standard Errors assume that the covariance matrix of the errors is correctly specified.\n"
     ]
    }
   ],
   "source": [
    "from andrea_models import AndreaLinearRegression\n",
    "\n",
    "\n",
    "# Creating a model with two features\n",
    "cols = ['t1s0', 't0s1']\n",
    "target = 't0s0'\n",
    "\n",
    "bench_mark_model = AndreaLinearRegression()\n",
    "bench_mark_model.fit(df_train[cols], df_train[target], column_names=cols)\n",
    "bench_mark_model.summary()"
   ]
  },
  {
   "cell_type": "code",
   "execution_count": 5,
   "metadata": {},
   "outputs": [
    {
     "name": "stdout",
     "output_type": "stream",
     "text": [
      "RMSE benchmark: 0.4137089011196723\n"
     ]
    }
   ],
   "source": [
    "# Test the benchmark model\n",
    "predictions = bench_mark_model.predict(df_test[cols])\n",
    "\n",
    "RMSE_2_features = math.sqrt(mean_squared_error(df_test[target], predictions))\n",
    "print('RMSE benchmark:', RMSE_2_features)"
   ]
  }
 ],
 "metadata": {
  "colab": {
   "name": "b.exploration.ipynb",
   "provenance": []
  },
  "kernelspec": {
   "display_name": "Python 3",
   "language": "python",
   "name": "python3"
  },
  "language_info": {
   "codemirror_mode": {
    "name": "ipython",
    "version": 3
   },
   "file_extension": ".py",
   "mimetype": "text/x-python",
   "name": "python",
   "nbconvert_exporter": "python",
   "pygments_lexer": "ipython3",
   "version": "3.10.12"
  }
 },
 "nbformat": 4,
 "nbformat_minor": 0
}
